{
 "cells": [
  {
   "cell_type": "code",
   "execution_count": 14,
   "id": "4de08f21-f8b9-464f-b89d-cfe28588b83a",
   "metadata": {},
   "outputs": [],
   "source": [
    "import matplotlib.pyplot as plt\n",
    "import pandas as pd\n",
    "import seaborn as sns"
   ]
  },
  {
   "cell_type": "markdown",
   "id": "3a025c9e-82ee-4d37-89ec-6fb8bf88ed7d",
   "metadata": {},
   "source": [
    "# official code"
   ]
  },
  {
   "cell_type": "code",
   "execution_count": 31,
   "id": "c4c311f7-7b83-4796-a7a3-2da46d17bbfe",
   "metadata": {},
   "outputs": [
    {
     "data": {
      "text/html": [
       "<div>\n",
       "<style scoped>\n",
       "    .dataframe tbody tr th:only-of-type {\n",
       "        vertical-align: middle;\n",
       "    }\n",
       "\n",
       "    .dataframe tbody tr th {\n",
       "        vertical-align: top;\n",
       "    }\n",
       "\n",
       "    .dataframe thead th {\n",
       "        text-align: right;\n",
       "    }\n",
       "</style>\n",
       "<table border=\"1\" class=\"dataframe\">\n",
       "  <thead>\n",
       "    <tr style=\"text-align: right;\">\n",
       "      <th></th>\n",
       "      <th>index</th>\n",
       "      <th>NLL</th>\n",
       "      <th>ECE</th>\n",
       "      <th>loss</th>\n",
       "      <th>calibration</th>\n",
       "    </tr>\n",
       "  </thead>\n",
       "  <tbody>\n",
       "    <tr>\n",
       "      <th>0</th>\n",
       "      <td>Before</td>\n",
       "      <td>1.749</td>\n",
       "      <td>0.139</td>\n",
       "      <td>NLL</td>\n",
       "      <td>ECE</td>\n",
       "    </tr>\n",
       "    <tr>\n",
       "      <th>1</th>\n",
       "      <td>After</td>\n",
       "      <td>1.560</td>\n",
       "      <td>0.025</td>\n",
       "      <td>NLL</td>\n",
       "      <td>ECE</td>\n",
       "    </tr>\n",
       "  </tbody>\n",
       "</table>\n",
       "</div>"
      ],
      "text/plain": [
       "    index    NLL    ECE loss calibration\n",
       "0  Before  1.749  0.139  NLL         ECE\n",
       "1   After  1.560  0.025  NLL         ECE"
      ]
     },
     "execution_count": 31,
     "metadata": {},
     "output_type": "execute_result"
    }
   ],
   "source": [
    "before = [1.749, 0.139]\n",
    "after = [1.560, 0.025]\n",
    "\n",
    "result = pd.DataFrame([before, after], columns=['NLL', 'ECE'], index=['Before','After']).reset_index()\n",
    "result['loss']='NLL'\n",
    "result['calibration']='ECE'\n",
    "result"
   ]
  },
  {
   "cell_type": "code",
   "execution_count": 72,
   "id": "e505add6-a4e4-4bbb-9e11-83be9b4c9c14",
   "metadata": {},
   "outputs": [
    {
     "data": {
      "image/png": "[encoded data removed]",
      "text/plain": [
       "<Figure size 432.225x360 with 1 Axes>"
      ]
     },
     "metadata": {},
     "output_type": "display_data"
    }
   ],
   "source": [
    "import seaborn as sns\n",
    "sns.set_theme(style=\"whitegrid\")\n",
    "\n",
    "# Draw a nested barplot by species and sex\n",
    "g = sns.catplot(\n",
    "    data=result, kind=\"bar\", x='loss',\n",
    "    y=\"NLL\", hue=\"index\", palette=\"dark\", alpha=.6, height=5, aspect=1\n",
    ")\n",
    "g.despine(left=True)\n",
    "g.set_axis_labels(\"\", \"\")\n",
    "g.legend.set_title(\"\")\n",
    "#g.set(title='Temperature scaling')\n"
   ]
  },
  {
   "cell_type": "code",
   "execution_count": 73,
   "id": "b5e357cd-36e7-40fe-b877-be94b8d9186c",
   "metadata": {},
   "outputs": [
    {
     "data": {
      "image/png": "[encoded data removed]",
      "text/plain": [
       "<Figure size 432.225x360 with 1 Axes>"
      ]
     },
     "metadata": {},
     "output_type": "display_data"
    }
   ],
   "source": [
    "import seaborn as sns\n",
    "sns.set_theme(style=\"whitegrid\")\n",
    "\n",
    "# Draw a nested barplot by species and sex\n",
    "g = sns.catplot(\n",
    "    data=result, kind=\"bar\", x='calibration',\n",
    "    y=\"ECE\", hue=\"index\", palette=\"dark\", alpha=.6, height=5, aspect=1\n",
    ")\n",
    "g.despine(left=True)\n",
    "g.set_axis_labels(\"\", \"\")\n",
    "g.legend.set_title(\"\")\n",
    "#g.set(title='Temperature scaling')\n"
   ]
  },
  {
   "cell_type": "markdown",
   "id": "73afcd22-da88-46c2-bf18-747893a57875",
   "metadata": {},
   "source": [
    "# my model"
   ]
  },
  {
   "cell_type": "code",
   "execution_count": 74,
   "id": "e5552b23-1603-4406-b46d-8ade81a81bf0",
   "metadata": {},
   "outputs": [
    {
     "data": {
      "text/html": [
       "<div>\n",
       "<style scoped>\n",
       "    .dataframe tbody tr th:only-of-type {\n",
       "        vertical-align: middle;\n",
       "    }\n",
       "\n",
       "    .dataframe tbody tr th {\n",
       "        vertical-align: top;\n",
       "    }\n",
       "\n",
       "    .dataframe thead th {\n",
       "        text-align: right;\n",
       "    }\n",
       "</style>\n",
       "<table border=\"1\" class=\"dataframe\">\n",
       "  <thead>\n",
       "    <tr style=\"text-align: right;\">\n",
       "      <th></th>\n",
       "      <th>index</th>\n",
       "      <th>NLL</th>\n",
       "      <th>ECE</th>\n",
       "      <th>loss</th>\n",
       "      <th>calibration</th>\n",
       "    </tr>\n",
       "  </thead>\n",
       "  <tbody>\n",
       "    <tr>\n",
       "      <th>0</th>\n",
       "      <td>Before</td>\n",
       "      <td>0.251</td>\n",
       "      <td>0.025</td>\n",
       "      <td>NLL</td>\n",
       "      <td>ECE</td>\n",
       "    </tr>\n",
       "    <tr>\n",
       "      <th>1</th>\n",
       "      <td>After</td>\n",
       "      <td>0.238</td>\n",
       "      <td>0.012</td>\n",
       "      <td>NLL</td>\n",
       "      <td>ECE</td>\n",
       "    </tr>\n",
       "  </tbody>\n",
       "</table>\n",
       "</div>"
      ],
      "text/plain": [
       "    index    NLL    ECE loss calibration\n",
       "0  Before  0.251  0.025  NLL         ECE\n",
       "1   After  0.238  0.012  NLL         ECE"
      ]
     },
     "execution_count": 74,
     "metadata": {},
     "output_type": "execute_result"
    }
   ],
   "source": [
    "before = [0.251, 0.025]\n",
    "after = [0.238, 0.012]\n",
    "\n",
    "result = pd.DataFrame([before, after], columns=['NLL', 'ECE'], index=['Before','After']).reset_index()\n",
    "result['loss']='NLL'\n",
    "result['calibration']='ECE'\n",
    "result"
   ]
  },
  {
   "cell_type": "code",
   "execution_count": 75,
   "id": "ba30b5de-815c-4da4-94e9-dc00343a9f48",
   "metadata": {},
   "outputs": [
    {
     "data": {
      "image/png": "[encoded data removed]",
      "text/plain": [
       "<Figure size 432.225x360 with 1 Axes>"
      ]
     },
     "metadata": {},
     "output_type": "display_data"
    }
   ],
   "source": [
    "import seaborn as sns\n",
    "sns.set_theme(style=\"whitegrid\")\n",
    "\n",
    "# Draw a nested barplot by species and sex\n",
    "g = sns.catplot(\n",
    "    data=result, kind=\"bar\", x='loss',\n",
    "    y=\"NLL\", hue=\"index\", palette=\"dark\", alpha=.6, height=5, aspect=1\n",
    ")\n",
    "g.despine(left=True)\n",
    "g.set_axis_labels(\"\", \"\")\n",
    "g.legend.set_title(\"\")\n",
    "#g.set(title='Temperature scaling')\n"
   ]
  },
  {
   "cell_type": "code",
   "execution_count": 76,
   "id": "c2749b54-8500-4d8a-b126-976a66df8d4c",
   "metadata": {},
   "outputs": [
    {
     "data": {
      "image/png": "[encoded data removed]",
      "text/plain": [
       "<Figure size 432.225x360 with 1 Axes>"
      ]
     },
     "metadata": {},
     "output_type": "display_data"
    }
   ],
   "source": [
    "import seaborn as sns\n",
    "sns.set_theme(style=\"whitegrid\")\n",
    "\n",
    "# Draw a nested barplot by species and sex\n",
    "g = sns.catplot(\n",
    "    data=result, kind=\"bar\", x='calibration',\n",
    "    y=\"ECE\", hue=\"index\", palette=\"dark\", alpha=.6, height=5, aspect=1\n",
    ")\n",
    "g.despine(left=True)\n",
    "g.set_axis_labels(\"\", \"\")\n",
    "g.legend.set_title(\"\")\n",
    "#g.set(title='Temperature scaling')\n"
   ]
  },
  {
   "cell_type": "code",
   "execution_count": 92,
   "id": "cc12e024-a407-4579-a02b-164ed8b47c79",
   "metadata": {},
   "outputs": [],
   "source": [
    "import torch.nn.functional as F\n",
    "import numpy as np\n",
    "import torch"
   ]
  },
  {
   "cell_type": "code",
   "execution_count": 93,
   "id": "40316b72-c948-4352-8171-5a3d83a72f84",
   "metadata": {},
   "outputs": [
    {
     "data": {
      "text/plain": [
       "tensor([1., 2., 3., 4., 5.])"
      ]
     },
     "execution_count": 93,
     "metadata": {},
     "output_type": "execute_result"
    }
   ],
   "source": [
    "logit = torch.Tensor([1, 2, 3, 4, 5])\n",
    "logit"
   ]
  },
  {
   "cell_type": "code",
   "execution_count": 94,
   "id": "bc86d660-2b3f-40d3-ad18-072bdcb13982",
   "metadata": {},
   "outputs": [
    {
     "data": {
      "text/plain": [
       "tensor([1.5000, 1.5000, 1.5000, 1.5000, 1.5000])"
      ]
     },
     "execution_count": 94,
     "metadata": {},
     "output_type": "execute_result"
    }
   ],
   "source": [
    "T = torch.Tensor([1.5, 1.5, 1.5, 1.5, 1.5])\n",
    "T"
   ]
  },
  {
   "cell_type": "code",
   "execution_count": 95,
   "id": "9a97bbf7-5fe2-4853-99c6-1c6e55809a32",
   "metadata": {},
   "outputs": [
    {
     "data": {
      "text/plain": [
       "tensor([0.6667, 1.3333, 2.0000, 2.6667, 3.3333])"
      ]
     },
     "execution_count": 95,
     "metadata": {},
     "output_type": "execute_result"
    }
   ],
   "source": [
    "scaled_logit = logit/T\n",
    "scaled_logit"
   ]
  },
  {
   "cell_type": "code",
   "execution_count": null,
   "id": "9a1cd1c3-a82c-4d16-a774-ee5ba457afa7",
   "metadata": {},
   "outputs": [],
   "source": []
  },
  {
   "cell_type": "code",
   "execution_count": 99,
   "id": "83740976-1edb-4dc7-a502-c9506bab2ceb",
   "metadata": {},
   "outputs": [
    {
     "data": {
      "text/plain": [
       "tensor([0.0117, 0.0317, 0.0861, 0.2341, 0.6364])"
      ]
     },
     "execution_count": 99,
     "metadata": {},
     "output_type": "execute_result"
    }
   ],
   "source": [
    "F.softmax(logit, dim=0)"
   ]
  },
  {
   "cell_type": "code",
   "execution_count": 97,
   "id": "512f46d8-4427-4f86-ac39-6201c9e4a8a5",
   "metadata": {},
   "outputs": [
    {
     "data": {
      "text/plain": [
       "tensor([0.0351, 0.0683, 0.1330, 0.2591, 0.5046])"
      ]
     },
     "execution_count": 97,
     "metadata": {},
     "output_type": "execute_result"
    }
   ],
   "source": [
    "F.softmax(scaled_logit, dim=0)"
   ]
  },
  {
   "cell_type": "code",
   "execution_count": null,
   "id": "8c03c1ec-d38a-4f54-8d79-02e8c7c7203f",
   "metadata": {},
   "outputs": [],
   "source": []
  },
  {
   "cell_type": "code",
   "execution_count": null,
   "id": "eabcf0a0-1714-46fa-9404-0a811cdbe908",
   "metadata": {},
   "outputs": [],
   "source": []
  }
 ],
 "metadata": {
  "kernelspec": {
   "display_name": "Python 3 (ipykernel)",
   "language": "python",
   "name": "python3"
  },
  "language_info": {
   "codemirror_mode": {
    "name": "ipython",
    "version": 3
   },
   "file_extension": ".py",
   "mimetype": "text/x-python",
   "name": "python",
   "nbconvert_exporter": "python",
   "pygments_lexer": "ipython3",
   "version": "3.9.7"
  }
 },
 "nbformat": 4,
 "nbformat_minor": 5
}
